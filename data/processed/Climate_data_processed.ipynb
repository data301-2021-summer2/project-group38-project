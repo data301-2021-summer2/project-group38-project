{
 "cells": [
  {
   "cell_type": "code",
   "execution_count": 2,
   "id": "1aa9770c-a5ef-4cba-8e1f-5a5e6b50e6cd",
   "metadata": {},
   "outputs": [],
   "source": [
    "import pandas as pd\n",
    "import numpy as np\n",
    "import seaborn as sns\n",
    "import matplotlib.pyplot as plt"
   ]
  },
  {
   "cell_type": "markdown",
   "id": "efaf6e41-8d1f-412d-aa88-2c1ca8b6e184",
   "metadata": {},
   "source": [
    "## TASK 1:"
   ]
  },
  {
   "cell_type": "code",
   "execution_count": 6,
   "id": "671058cc-a6a0-4de4-a859-8acf75e1b316",
   "metadata": {},
   "outputs": [
    {
     "name": "stdout",
     "output_type": "stream",
     "text": [
      "C:\\Users\\sofia\\Desktop\\COSC 301\\project-group38-project\\data\\raw\n"
     ]
    }
   ],
   "source": [
    "cd raw\n"
   ]
  },
  {
   "cell_type": "markdown",
   "id": "62e5d616-b419-4353-b45a-cf9f961dd2a7",
   "metadata": {},
   "source": [
    "Pipeline"
   ]
  },
  {
   "cell_type": "code",
   "execution_count": 7,
   "id": "13c5e9a4-a001-4a3f-bf7b-5bd933029de6",
   "metadata": {},
   "outputs": [],
   "source": [
    "##loading in data\n",
    "df = pd.read_csv(\"weatherstats_kelowna_daily.csv\")\n"
   ]
  },
  {
   "cell_type": "code",
   "execution_count": 8,
   "id": "61cc94aa-ccee-46d2-95fa-3c041a8fe6cf",
   "metadata": {},
   "outputs": [],
   "source": [
    "##omitting Columns"
   ]
  },
  {
   "cell_type": "code",
   "execution_count": 9,
   "id": "cafeba2c-e101-4e6b-be9c-6b5261c4ac60",
   "metadata": {},
   "outputs": [],
   "source": [
    "df = df.drop(columns=['max_humidex', 'min_windchill','max_relative_humidity','avg_hourly_relative_humidity','avg_relative_humidity','avg_cloud_cover_4',\n",
    "                       'min_cloud_cover_4','max_cloud_cover_8','avg_hourly_cloud_cover_8','avg_cloud_cover_8','min_cloud_cover_8','max_cloud_cover_10',\n",
    "                       'avg_hourly_cloud_cover_10','max_wind_speed','avg_hourly_wind_speed','avg_wind_speed','min_wind_speed','max_wind_gust','daylight','sunrise_f','sunset_f'\n",
    "                        ,'avg_cloud_cover_10','avg_cloud_cover_10','min_cloud_cover_10','min_relative_humidity',\n",
    "                       'max_dew_point','avg_hourly_dew_point','avg_dew_point','min_dew_point','max_cloud_cover_4','avg_hourly_cloud_cover_4',\n",
    "                      'wind_gust_dir_10s','max_pressure_sea','avg_hourly_pressure_sea','avg_pressure_sea','min_pressure_sea',\n",
    "                      'max_pressure_station','avg_hourly_pressure_station','avg_pressure_station','min_pressure_station',\n",
    "                       'max_visibility','avg_hourly_visibility','avg_visibility','min_visibility','max_health_index',\n",
    "                      'avg_hourly_health_index','avg_health_index','min_health_index','heatdegdays','cooldegdays','growdegdays_5','growdegdays_7','growdegdays_10',\n",
    "                      'min_uv_forecast','max_uv_forecast','min_high_temperature_forecast','max_high_temperature_forecast','min_low_temperature_forecast','max_low_temperature_forecast'])\n",
    "        "
   ]
  },
  {
   "cell_type": "code",
   "execution_count": 10,
   "id": "90ac8d51-b4e9-41ec-bf22-adec64c5d77c",
   "metadata": {},
   "outputs": [],
   "source": [
    "##I realized I could have also just done this: (after the fact)"
   ]
  },
  {
   "cell_type": "code",
   "execution_count": 11,
   "id": "b85c3482-04a2-4d65-8521-4940cd52ce31",
   "metadata": {},
   "outputs": [],
   "source": [
    "df1 = df[['date','max_temperature','avg_hourly_temperature','avg_temperature','min_temperature','precipitation']]"
   ]
  },
  {
   "cell_type": "code",
   "execution_count": 12,
   "id": "6e84a0d1-505d-4554-a5fa-9bdc25420279",
   "metadata": {},
   "outputs": [],
   "source": [
    "# dropping Nan Values \n",
    "df2 = df1.dropna()\n",
    "##https://www.kite.com/python/answers/how-to-drop-empty-rows-from-a-pandas-dataframe-in-python#:~:text=Use%20df.,contain%20NaN%20under%20those%20columns."
   ]
  },
  {
   "cell_type": "code",
   "execution_count": 13,
   "id": "e065e55f-8d4c-454c-8e6b-a6928710a434",
   "metadata": {},
   "outputs": [],
   "source": [
    "#resetting index\n",
    "df3 = df2.reset_index()\n"
   ]
  },
  {
   "cell_type": "code",
   "execution_count": 14,
   "id": "dda4099e-4dc4-4aa1-9107-70636fb5d5ac",
   "metadata": {},
   "outputs": [],
   "source": [
    "## Seperating into dataframes by year"
   ]
  },
  {
   "cell_type": "code",
   "execution_count": 15,
   "id": "1ef5ad86-46a5-4dda-a4cd-2cfac05c3ffc",
   "metadata": {},
   "outputs": [],
   "source": [
    "df2021 = df3[df3.date.str.contains(\"2021\")] \n",
    "df2020 = df3[df3.date.str.contains(\"2020\")] \n",
    "df2019 = df3[df3.date.str.contains(\"2019\")] \n",
    "df2018 = df3[df3.date.str.contains(\"2018\")]\n",
    "df2017 = df3[df3.date.str.contains(\"2017\")] \n",
    "df2016 = df3[df3.date.str.contains(\"2016\")]\n",
    "df2015 = df3[df3.date.str.contains(\"2015\")] \n",
    "df2014 = df3[df3.date.str.contains(\"2014\")]\n",
    "df2013 = df3[df3.date.str.contains(\"2013\")] \n",
    "df2012 = df3[df3.date.str.contains(\"2012\")]\n",
    "df2011 = df3[df3.date.str.contains(\"2011\")] \n",
    "df2010 = df3[df3.date.str.contains(\"2010\")]\n",
    "df2009 = df3[df3.date.str.contains(\"2009\")] \n",
    "df2008 = df3[df3.date.str.contains(\"2008\")]\n",
    "df2007 = df3[df3.date.str.contains(\"2007\")]\n",
    "\n",
    "## Seperating dataframes by monthly data\n",
    "\n",
    "\n",
    "##2021\n",
    "df2021jan = df2021[df2021.date.str.contains(\"2021-01\")]\n",
    "df2021feb = df2021[df2021.date.str.contains(\"2021-02\")]\n",
    "df2021march = df2021[df2021.date.str.contains(\"2021-03\")]\n",
    "df2021april = df2021[df2021.date.str.contains(\"2021-04\")]\n",
    "df2021may = df2021[df2021.date.str.contains(\"2021-05\")]\n",
    "df2021jun = df2021[df2021.date.str.contains(\"2021-06\")]\n",
    "df2021jul = df2021[df2021.date.str.contains(\"2021-07\")]\n",
    "\n",
    "##2020\n",
    "df2020jan = df2020[df2020.date.str.contains(\"2020-01\")]\n",
    "df2020feb = df2020[df2020.date.str.contains(\"2020-02\")]\n",
    "df2020march = df2020[df2020.date.str.contains(\"2020-03\")]\n",
    "df2020april = df2020[df2020.date.str.contains(\"2020-04\")]\n",
    "df2020may = df2020[df2020.date.str.contains(\"2020-05\")]\n",
    "df2020jun = df2020[df2020.date.str.contains(\"2020-06\")]\n",
    "df2020jul = df2020[df2020.date.str.contains(\"2020-07\")]\n",
    "df2020aug = df2020[df2020.date.str.contains(\"2020-08\")]\n",
    "df2020sep = df2020[df2020.date.str.contains(\"2020-09\")]\n",
    "df2020oct = df2020[df2020.date.str.contains(\"2020-10\")]\n",
    "df2020nov = df2020[df2020.date.str.contains(\"2020-11\")]\n",
    "df2020dec = df2020[df2020.date.str.contains(\"2020-12\")]\n",
    "\n",
    "#2019\n",
    "df2019jan = df2019[df2019.date.str.contains(\"2019-01\")]\n",
    "df2019feb = df2019[df2019.date.str.contains(\"2019-02\")]\n",
    "df2019march = df2019[df2019.date.str.contains(\"2019-03\")]\n",
    "df2019april = df2019[df2019.date.str.contains(\"2019-04\")]\n",
    "df2019may = df2019[df2019.date.str.contains(\"2019-05\")]\n",
    "df2019jun = df2019[df2019.date.str.contains(\"2019-06\")]\n",
    "df2019jul = df2019[df2019.date.str.contains(\"2019-07\")]\n",
    "df2019aug = df2019[df2019.date.str.contains(\"2019-08\")]\n",
    "df2019sep = df2019[df2019.date.str.contains(\"2019-09\")]\n",
    "df2019oct = df2019[df2019.date.str.contains(\"2019-10\")]\n",
    "df2019nov = df2019[df2019.date.str.contains(\"2019-11\")]\n",
    "df2019dec = df2019[df2019.date.str.contains(\"2019-12\")]\n",
    "\n",
    "#2018\n",
    "df2018jan = df2018[df2018.date.str.contains(\"2018-01\")]\n",
    "df2018feb = df2018[df2018.date.str.contains(\"2018-02\")]\n",
    "df2018march = df2018[df2018.date.str.contains(\"2018-03\")]\n",
    "df2018april = df2018[df2018.date.str.contains(\"2018-04\")]\n",
    "df2018may = df2018[df2018.date.str.contains(\"2018-05\")]\n",
    "df2018jun = df2018[df2018.date.str.contains(\"2018-06\")]\n",
    "df2018jul = df2018[df2018.date.str.contains(\"2018-07\")]\n",
    "df2018aug = df2018[df2018.date.str.contains(\"2018-08\")]\n",
    "df2018sep = df2018[df2018.date.str.contains(\"2018-09\")]\n",
    "df2018oct = df2018[df2018.date.str.contains(\"2018-10\")]\n",
    "df2018nov = df2018[df2018.date.str.contains(\"2018-11\")]\n",
    "df2018dec = df2018[df2018.date.str.contains(\"2018-12\")]\n",
    "\n",
    "#2017\n",
    "df2017jan = df2017[df2017.date.str.contains(\"2017-01\")]\n",
    "df2017feb = df2017[df2017.date.str.contains(\"2017-02\")]\n",
    "df2017march = df2017[df2017.date.str.contains(\"2017-03\")]\n",
    "df2017april = df2017[df2017.date.str.contains(\"2017-04\")]\n",
    "df2017may = df2017[df2017.date.str.contains(\"2017-05\")]\n",
    "df2017jun = df2017[df2017.date.str.contains(\"2017-06\")]\n",
    "df2017jul = df2017[df2017.date.str.contains(\"2017-07\")]\n",
    "df2017aug = df2017[df2017.date.str.contains(\"2017-08\")]\n",
    "df2017sep = df2017[df2017.date.str.contains(\"2017-09\")]\n",
    "df2017oct = df2017[df2017.date.str.contains(\"2017-10\")]\n",
    "df2017nov = df2017[df2017.date.str.contains(\"2017-11\")]\n",
    "df2017dec = df2017[df2017.date.str.contains(\"2017-12\")]\n",
    "\n",
    "#2016\n",
    "df2016jan = df2016[df2016.date.str.contains(\"2016-01\")]\n",
    "df2016feb = df2016[df2016.date.str.contains(\"2016-02\")]\n",
    "df2016march = df2016[df2016.date.str.contains(\"2016-03\")]\n",
    "df2016april = df2016[df2016.date.str.contains(\"2016-04\")]\n",
    "df2016may = df2016[df2016.date.str.contains(\"2016-05\")]\n",
    "df2016jun = df2016[df2016.date.str.contains(\"2016-06\")]\n",
    "df2016jul = df2016[df2016.date.str.contains(\"2016-07\")]\n",
    "df2016aug = df2016[df2016.date.str.contains(\"2016-08\")]\n",
    "df2016sep = df2016[df2016.date.str.contains(\"2016-09\")]\n",
    "df2016oct = df2016[df2016.date.str.contains(\"2016-10\")]\n",
    "df2016nov = df2016[df2016.date.str.contains(\"2016-11\")]\n",
    "df2016dec = df2016[df2016.date.str.contains(\"2016-12\")]\n",
    "\n",
    "#2015\n",
    "df2015jan = df2015[df2015.date.str.contains(\"2015-01\")]\n",
    "df2015feb = df2015[df2015.date.str.contains(\"2015-02\")]\n",
    "df2015march = df2015[df2015.date.str.contains(\"2015-03\")]\n",
    "df2015april = df2015[df2015.date.str.contains(\"2015-04\")]\n",
    "df2015may = df2015[df2015.date.str.contains(\"2015-05\")]\n",
    "df2015jun = df2015[df2015.date.str.contains(\"2015-06\")]\n",
    "df2015jul = df2015[df2015.date.str.contains(\"2015-07\")]\n",
    "df2015aug = df2015[df2015.date.str.contains(\"2015-08\")]\n",
    "df2015sep = df2015[df2015.date.str.contains(\"2015-09\")]\n",
    "df2015oct = df2015[df2015.date.str.contains(\"2015-10\")]\n",
    "df2015nov = df2015[df2015.date.str.contains(\"2015-11\")]\n",
    "df2015dec = df2015[df2015.date.str.contains(\"2015-12\")]\n",
    "\n",
    "#2014\n",
    "df2014jan = df2014[df2014.date.str.contains(\"2014-01\")]\n",
    "df2014feb = df2014[df2014.date.str.contains(\"2014-02\")]\n",
    "df2014march = df2014[df2014.date.str.contains(\"2014-03\")]\n",
    "df2014april = df2014[df2014.date.str.contains(\"2014-04\")]\n",
    "df2014may = df2014[df2014.date.str.contains(\"2014-05\")]\n",
    "df2014jun = df2014[df2014.date.str.contains(\"2014-06\")]\n",
    "df2014jul = df2014[df2014.date.str.contains(\"2014-07\")]\n",
    "df2014aug = df2014[df2014.date.str.contains(\"2014-08\")]\n",
    "df2014sep = df2014[df2014.date.str.contains(\"2014-09\")]\n",
    "df2014oct = df2014[df2014.date.str.contains(\"2014-10\")]\n",
    "df2014nov = df2014[df2014.date.str.contains(\"2014-11\")]\n",
    "df2014dec = df2014[df2014.date.str.contains(\"2014-12\")]\n",
    "\n",
    "#2013\n",
    "df2013jan = df2013[df2013.date.str.contains(\"2013-01\")]\n",
    "df2013feb = df2013[df2013.date.str.contains(\"2013-02\")]\n",
    "df2013march = df2013[df2013.date.str.contains(\"2013-03\")]\n",
    "df2013april = df2013[df2013.date.str.contains(\"2013-04\")]\n",
    "df2013may = df2013[df2013.date.str.contains(\"2013-05\")]\n",
    "df2013jun = df2013[df2013.date.str.contains(\"2013-06\")]\n",
    "df2013jul = df2013[df2013.date.str.contains(\"2013-07\")]\n",
    "df2013aug = df2013[df2013.date.str.contains(\"2013-08\")]\n",
    "df2013sep = df2013[df2013.date.str.contains(\"2013-09\")]\n",
    "df2013oct = df2013[df2013.date.str.contains(\"2013-10\")]\n",
    "df2013nov = df2013[df2013.date.str.contains(\"2013-11\")]\n",
    "df2013dec = df2013[df2013.date.str.contains(\"2013-12\")]\n",
    "\n",
    "#2012\n",
    "df2012jan = df2012[df2012.date.str.contains(\"2012-01\")]\n",
    "df2012feb = df2012[df2012.date.str.contains(\"2012-02\")]\n",
    "df2012march = df2012[df2012.date.str.contains(\"2012-03\")]\n",
    "df2012april = df2012[df2012.date.str.contains(\"2012-04\")]\n",
    "df2012may = df2012[df2012.date.str.contains(\"2012-05\")]\n",
    "df2012jun = df2012[df2012.date.str.contains(\"2012-06\")]\n",
    "df2012jul = df2012[df2012.date.str.contains(\"2012-07\")]\n",
    "df2012aug = df2012[df2012.date.str.contains(\"2012-08\")]\n",
    "df2012sep = df2012[df2012.date.str.contains(\"2012-09\")]\n",
    "df2012oct = df2012[df2012.date.str.contains(\"2012-10\")]\n",
    "df2012nov = df2012[df2012.date.str.contains(\"2012-11\")]\n",
    "df2012dec = df2012[df2012.date.str.contains(\"2012-12\")]\n",
    "\n",
    "#2011\n",
    "df2011jan = df2011[df2011.date.str.contains(\"2011-01\")]\n",
    "df2011feb = df2011[df2011.date.str.contains(\"2011-02\")]\n",
    "df2011march = df2011[df2011.date.str.contains(\"2011-03\")]\n",
    "df2011april = df2011[df2011.date.str.contains(\"2011-04\")]\n",
    "df2011may = df2011[df2011.date.str.contains(\"2011-05\")]\n",
    "df2011jun = df2011[df2011.date.str.contains(\"2011-06\")]\n",
    "df2011jul = df2011[df2011.date.str.contains(\"2011-07\")]\n",
    "df2011aug = df2011[df2011.date.str.contains(\"2011-08\")]\n",
    "df2011sep = df2011[df2011.date.str.contains(\"2011-09\")]\n",
    "df2011oct = df2011[df2011.date.str.contains(\"2011-10\")]\n",
    "df2011nov = df2011[df2011.date.str.contains(\"2011-11\")]\n",
    "df2011dec = df2011[df2011.date.str.contains(\"2011-12\")]\n",
    "\n",
    "#2010\n",
    "df2010jan = df2010[df2010.date.str.contains(\"2010-01\")]\n",
    "df2010feb = df2010[df2010.date.str.contains(\"2010-02\")]\n",
    "df2010march = df2010[df2010.date.str.contains(\"2010-03\")]\n",
    "df2010april = df2010[df2010.date.str.contains(\"2010-04\")]\n",
    "df2010may = df2010[df2010.date.str.contains(\"2010-05\")]\n",
    "df2010jun = df2010[df2010.date.str.contains(\"2010-06\")]\n",
    "df2010jul = df2010[df2010.date.str.contains(\"2010-07\")]\n",
    "df2010aug = df2010[df2010.date.str.contains(\"2010-08\")]\n",
    "df2010sep = df2010[df2010.date.str.contains(\"2010-09\")]\n",
    "df2010oct = df2010[df2010.date.str.contains(\"2010-10\")]\n",
    "df2010nov = df2010[df2010.date.str.contains(\"2010-11\")]\n",
    "df2010dec = df2010[df2010.date.str.contains(\"2010-12\")]\n",
    "\n",
    "#2009\n",
    "df2009jan = df2009[df2009.date.str.contains(\"2009-01\")]\n",
    "df2009feb = df2009[df2009.date.str.contains(\"2009-02\")]\n",
    "df2009march = df2009[df2009.date.str.contains(\"2009-03\")]\n",
    "df2009april = df2009[df2009.date.str.contains(\"2009-04\")]\n",
    "df2009may = df2009[df2009.date.str.contains(\"2009-05\")]\n",
    "df2009jun = df2009[df2009.date.str.contains(\"2009-06\")]\n",
    "df2009jul = df2009[df2009.date.str.contains(\"2009-07\")]\n",
    "df2009aug = df2009[df2009.date.str.contains(\"2009-08\")]\n",
    "df2009sep = df2009[df2009.date.str.contains(\"2009-09\")]\n",
    "df2009oct = df2009[df2009.date.str.contains(\"2009-10\")]\n",
    "df2009nov = df2009[df2009.date.str.contains(\"2009-11\")]\n",
    "df2009dec = df2009[df2009.date.str.contains(\"2009-12\")]\n",
    "\n",
    "#2008\n",
    "df2008jan = df2008[df2008.date.str.contains(\"2008-01\")]\n",
    "df2008feb = df2008[df2008.date.str.contains(\"2008-02\")]\n",
    "df2008march = df2008[df2008.date.str.contains(\"2008-03\")]\n",
    "df2008april = df2008[df2008.date.str.contains(\"2008-04\")]\n",
    "df2008may = df2008[df2008.date.str.contains(\"2008-05\")]\n",
    "df2008jun = df2008[df2008.date.str.contains(\"2008-06\")]\n",
    "df2008jul = df2008[df2008.date.str.contains(\"2008-07\")]\n",
    "df2008aug = df2008[df2008.date.str.contains(\"2008-08\")]\n",
    "df2008sep = df2008[df2008.date.str.contains(\"2008-09\")]\n",
    "df2008oct = df2008[df2008.date.str.contains(\"2008-10\")]\n",
    "df2008nov = df2008[df2008.date.str.contains(\"2008-11\")]\n",
    "df2008dec = df2008[df2008.date.str.contains(\"2008-12\")]\n",
    "\n",
    "#2007\n",
    "df2007nov = df2007[df2007.date.str.contains(\"2007-11\")]\n",
    "df2007dec = df2007[df2007.date.str.contains(\"2007-12\")]"
   ]
  },
  {
   "cell_type": "markdown",
   "id": "ee4c4e22-2421-4b5d-b270-b352d3b12c86",
   "metadata": {},
   "source": [
    "## TASK 2:"
   ]
  },
  {
   "cell_type": "markdown",
   "id": "5650d9e5-c3d9-4ba6-ac14-6991007e6c59",
   "metadata": {},
   "source": [
    "Method chaining"
   ]
  },
  {
   "cell_type": "code",
   "execution_count": 16,
   "id": "64249968-26b1-443d-852c-40ec37294466",
   "metadata": {},
   "outputs": [
    {
     "data": {
      "text/html": [
       "<div>\n",
       "<style scoped>\n",
       "    .dataframe tbody tr th:only-of-type {\n",
       "        vertical-align: middle;\n",
       "    }\n",
       "\n",
       "    .dataframe tbody tr th {\n",
       "        vertical-align: top;\n",
       "    }\n",
       "\n",
       "    .dataframe thead th {\n",
       "        text-align: right;\n",
       "    }\n",
       "</style>\n",
       "<table border=\"1\" class=\"dataframe\">\n",
       "  <thead>\n",
       "    <tr style=\"text-align: right;\">\n",
       "      <th></th>\n",
       "      <th>index</th>\n",
       "      <th>date</th>\n",
       "      <th>max_temperature</th>\n",
       "      <th>avg_hourly_temperature</th>\n",
       "      <th>avg_temperature</th>\n",
       "      <th>min_temperature</th>\n",
       "      <th>precipitation</th>\n",
       "      <th>rain</th>\n",
       "      <th>snow</th>\n",
       "      <th>snow_on_ground</th>\n",
       "      <th>sunrise</th>\n",
       "      <th>sunset</th>\n",
       "      <th>solar_radiation</th>\n",
       "    </tr>\n",
       "  </thead>\n",
       "  <tbody>\n",
       "  </tbody>\n",
       "</table>\n",
       "</div>"
      ],
      "text/plain": [
       "Empty DataFrame\n",
       "Columns: [index, date, max_temperature, avg_hourly_temperature, avg_temperature, min_temperature, precipitation, rain, snow, snow_on_ground, sunrise, sunset, solar_radiation]\n",
       "Index: []"
      ]
     },
     "execution_count": 16,
     "metadata": {},
     "output_type": "execute_result"
    }
   ],
   "source": [
    "## Loading data, dropping unwanted columns, handle Nan values, replacing index\n",
    "df1 = (pd.read_csv(\"weatherstats_kelowna_daily.csv\")\n",
    "       .drop(columns=['max_humidex', 'min_windchill','max_relative_humidity','avg_hourly_relative_humidity','avg_relative_humidity','avg_cloud_cover_4',\n",
    "                       'min_cloud_cover_4','max_cloud_cover_8','avg_hourly_cloud_cover_8','avg_cloud_cover_8','min_cloud_cover_8','max_cloud_cover_10',\n",
    "                       'avg_hourly_cloud_cover_10','max_wind_speed','avg_hourly_wind_speed','avg_wind_speed','min_wind_speed','max_wind_gust','daylight','sunrise_f','sunset_f'\n",
    "                        ,'avg_cloud_cover_10','avg_cloud_cover_10','min_cloud_cover_10','min_relative_humidity',\n",
    "                       'max_dew_point','avg_hourly_dew_point','avg_dew_point','min_dew_point','max_cloud_cover_4','avg_hourly_cloud_cover_4',\n",
    "                      'wind_gust_dir_10s','max_pressure_sea','avg_hourly_pressure_sea','avg_pressure_sea','min_pressure_sea',\n",
    "                      'max_pressure_station','avg_hourly_pressure_station','avg_pressure_station','min_pressure_station',\n",
    "                       'max_visibility','avg_hourly_visibility','avg_visibility','min_visibility','max_health_index',\n",
    "                      'avg_hourly_health_index','avg_health_index','min_health_index','heatdegdays','cooldegdays','growdegdays_5','growdegdays_7','growdegdays_10',\n",
    "                      'min_uv_forecast','max_uv_forecast','min_high_temperature_forecast','max_high_temperature_forecast','min_low_temperature_forecast','max_low_temperature_forecast'])\n",
    "        .dropna()\n",
    "        .reset_index()\n",
    "      )\n",
    "df1"
   ]
  },
  {
   "cell_type": "code",
   "execution_count": 26,
   "id": "89f564fc-3327-4c58-b272-c8083eb24219",
   "metadata": {},
   "outputs": [
    {
     "ename": "SyntaxError",
     "evalue": "invalid syntax (Temp/ipykernel_3244/1520660775.py, line 1)",
     "output_type": "error",
     "traceback": [
      "\u001b[1;36m  File \u001b[1;32m\"C:\\Users\\sofia\\AppData\\Local\\Temp/ipykernel_3244/1520660775.py\"\u001b[1;36m, line \u001b[1;32m1\u001b[0m\n\u001b[1;33m    def load_and_process(\"weatherstats_kelowna_daily.csv\"):\u001b[0m\n\u001b[1;37m                         ^\u001b[0m\n\u001b[1;31mSyntaxError\u001b[0m\u001b[1;31m:\u001b[0m invalid syntax\n"
     ]
    }
   ],
   "source": [
    "def load_and_process(\"weatherstats_kelowna_daily.csv\"):\n",
    "   \n",
    "    ## Loading data, dropping unwanted columns, handle Nan values, replacing index\n",
    "\n",
    "    df1 = (pd.read_csv(\"weatherstats_kelowna_daily.csv\")\n",
    "       .drop(columns=['max_humidex', 'min_windchill','max_relative_humidity','avg_hourly_relative_humidity','avg_relative_humidity','avg_cloud_cover_4',\n",
    "                       'min_cloud_cover_4','max_cloud_cover_8','avg_hourly_cloud_cover_8','avg_cloud_cover_8','min_cloud_cover_8','max_cloud_cover_10',\n",
    "                       'avg_hourly_cloud_cover_10','max_wind_speed','avg_hourly_wind_speed','avg_wind_speed','min_wind_speed','max_wind_gust','daylight','sunrise_f','sunset_f'\n",
    "                        ,'avg_cloud_cover_10','avg_cloud_cover_10','min_cloud_cover_10','min_relative_humidity',\n",
    "                       'max_dew_point','avg_hourly_dew_point','avg_dew_point','min_dew_point','max_cloud_cover_4','avg_hourly_cloud_cover_4',\n",
    "                      'wind_gust_dir_10s','max_pressure_sea','avg_hourly_pressure_sea','avg_pressure_sea','min_pressure_sea',\n",
    "                      'max_pressure_station','avg_hourly_pressure_station','avg_pressure_station','min_pressure_station',\n",
    "                       'max_visibility','avg_hourly_visibility','avg_visibility','min_visibility','max_health_index',\n",
    "                      'avg_hourly_health_index','avg_health_index','min_health_index','heatdegdays','cooldegdays','growdegdays_5','growdegdays_7','growdegdays_10',\n",
    "                      'min_uv_forecast','max_uv_forecast','min_high_temperature_forecast','max_high_temperature_forecast','min_low_temperature_forecast','max_low_temperature_forecast'])\n",
    "        .dropna()\n",
    "        .reset_index()\n",
    "      )\n",
    "    return df1"
   ]
  },
  {
   "cell_type": "markdown",
   "id": "b5a4349e-3248-4d0a-bbb1-b8878ceb0ccd",
   "metadata": {},
   "source": [
    "## TASK 3:"
   ]
  },
  {
   "cell_type": "markdown",
   "id": "c2d5dafd-f40b-4c4a-848d-685897f565f4",
   "metadata": {},
   "source": [
    "Numerical / Categorical data at a glance"
   ]
  },
  {
   "cell_type": "code",
   "execution_count": null,
   "id": "9a138077-356e-4465-aedd-fb022e59a94e",
   "metadata": {},
   "outputs": [],
   "source": [
    "df3.describe(include = np.number).T"
   ]
  },
  {
   "cell_type": "code",
   "execution_count": null,
   "id": "9fe4fb81-c514-46e7-b1ce-d0c8d488c35c",
   "metadata": {},
   "outputs": [],
   "source": [
    "df3.describe(exclude = np.number).T"
   ]
  },
  {
   "cell_type": "code",
   "execution_count": null,
   "id": "b6161460-be5d-43f6-8c01-05a4da090bbf",
   "metadata": {},
   "outputs": [],
   "source": [
    "%matplotlib inline\n",
    "sc = sns.scatterplot(data= df3, x=\"date\", y=\"max_temperature\")\n",
    "plt.figure(figsize = (15,8))\n",
    "sc"
   ]
  },
  {
   "cell_type": "code",
   "execution_count": null,
   "id": "b5a945dc-46e8-4091-b5e3-e52864e19717",
   "metadata": {},
   "outputs": [],
   "source": [
    "%matplotlib inline\n",
    "bp = sns.barplot(x= df2007[\"date\"], y= df3[\"max_temperature\"], data= df2007, label=\"2007 Max Temperature\")\n"
   ]
  },
  {
   "cell_type": "code",
   "execution_count": null,
   "id": "a54ae370-3c7a-4b7d-8749-8db23cb229cf",
   "metadata": {},
   "outputs": [],
   "source": [
    "%matplotlib inline\n",
    "bp = sns.barplot(x= df2007[\"date\"], y= df3[\"precipitation\"], data= df2007, label=\"2007 Precipitation\")"
   ]
  },
  {
   "cell_type": "code",
   "execution_count": null,
   "id": "aad5cdfe-be25-488b-ac5b-4103b69aeecd",
   "metadata": {},
   "outputs": [],
   "source": [
    "%matplotlib inline\n",
    "bp = sns.barplot(x= df2007[\"date\"], y= df3[\"avg_temperature\"], data= df2007, label=\"2007 Average Temperature\")"
   ]
  },
  {
   "cell_type": "markdown",
   "id": "be82bfd5-84b6-4b5b-8d4e-3c6b671e3114",
   "metadata": {},
   "source": [
    "## TASK 4:"
   ]
  },
  {
   "cell_type": "markdown",
   "id": "f9d14dfb-2deb-4a80-8a4b-713aa5f21cca",
   "metadata": {},
   "source": [
    "Research question: \n",
    "How has the climate changed in Kelowna in the past ~14 years?\n",
    "\n",
    "As seen in the plot on line 151, average temperatures appear to remain relatively consistent throughout most of the recorded years, however there are distinct outliers. The outliers are representative of extreme temperatures. \n",
    "Based on the table on line 144, it is shown that the highest temperature recorded in the 2007-2021 date range was 44 degrees Celsius.\n",
    "Within the dataframe it is clear that this occured this year (2021), during the recent heat wave that occured. \n",
    "The table also shows that the lowest recorded temperature in the date range was -30.6 degrees Celsius.\n",
    "When looking at the dataframe it can be identified that this low occured in December 2008.\n",
    "\n"
   ]
  },
  {
   "cell_type": "code",
   "execution_count": null,
   "id": "5b36ef53-0e7e-4fc3-ab90-a33c9f8daaf3",
   "metadata": {},
   "outputs": [],
   "source": []
  }
 ],
 "metadata": {
  "kernelspec": {
   "display_name": "Python 3 (ipykernel)",
   "language": "python",
   "name": "python3"
  },
  "language_info": {
   "codemirror_mode": {
    "name": "ipython",
    "version": 3
   },
   "file_extension": ".py",
   "mimetype": "text/x-python",
   "name": "python",
   "nbconvert_exporter": "python",
   "pygments_lexer": "ipython3",
   "version": "3.9.5"
  }
 },
 "nbformat": 4,
 "nbformat_minor": 5
}
